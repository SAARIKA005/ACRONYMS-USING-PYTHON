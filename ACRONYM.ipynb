{
  "nbformat": 4,
  "nbformat_minor": 0,
  "metadata": {
    "colab": {
      "name": "Untitled39.ipynb",
      "provenance": []
    },
    "kernelspec": {
      "name": "python3",
      "display_name": "Python 3"
    },
    "language_info": {
      "name": "python"
    }
  },
  "cells": [
    {
      "cell_type": "code",
      "execution_count": 1,
      "metadata": {
        "id": "6ODsMDTvCSJv",
        "outputId": "21f41bee-32cb-4b6e-ec1b-a8fcf3fea842",
        "colab": {
          "base_uri": "https://localhost:8080/"
        }
      },
      "outputs": [
        {
          "output_type": "stream",
          "name": "stdout",
          "text": [
            "Enter a Phrase: WHAT\n",
            " W\n"
          ]
        }
      ],
      "source": [
        "user_input = str(input(\"Enter a Phrase: \"))\n",
        "text = user_input.split()\n",
        "a = \" \"\n",
        "for i in text:\n",
        "    a = a+str(i[0]).upper()\n",
        "print(a)"
      ]
    }
  ]
}